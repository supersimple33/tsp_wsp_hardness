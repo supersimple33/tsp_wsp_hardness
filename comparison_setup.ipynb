{
 "cells": [
  {
   "cell_type": "markdown",
   "metadata": {},
   "source": [
    "# Comparison Setup, loads TSPs and creates pandas dataframe\n",
    "\n",
    "## Imports"
   ]
  },
  {
   "cell_type": "code",
   "execution_count": null,
   "metadata": {},
   "outputs": [],
   "source": [
    "import os\n",
    "\n",
    "import matplotlib.pyplot as plt\n",
    "import pandas as pd\n",
    "import tsplib95\n",
    "\n",
    "from wsp import tsp, ds, util # TODO: refine imports\n",
    "\n",
    "TREE_TYPE = ds.PKPRQuadTree\n",
    "BF_THRESHOLD = 14"
   ]
  },
  {
   "cell_type": "markdown",
   "metadata": {},
   "source": [
    "## Loading Euclidean TSPs"
   ]
  },
  {
   "cell_type": "code",
   "execution_count": null,
   "metadata": {},
   "outputs": [],
   "source": [
    "problems : list[tsplib95.models.StandardProblem] = []\n",
    "\n",
    "for file in os.listdir(\"ALL_tsp\"): # Loop through every tsp\n",
    "    if not file.endswith(\".tsp\"):\n",
    "        continue\n",
    "    problem = tsplib95.load(f\"ALL_tsp/{file}\")\n",
    "    if problem.edge_weight_type != \"EUC_2D\": # Skip non-Euclidean TSPs\n",
    "        continue # TODO: include ATT and GEO and maybe EUC_3D\n",
    "    \n",
    "    if problem.name in [\"a280\", \"rd100\"]: # Special skip cases, TODO: remove\n",
    "        continue\n",
    "    \n",
    "    problems.append(problem)\n",
    "    print(f\"Added {problem.name}\")\n",
    "\n",
    "print(\"Found\", len(problems), \"euclidean TSPs\")"
   ]
  },
  {
   "cell_type": "markdown",
   "metadata": {},
   "source": [
    "## Setting up data science"
   ]
  },
  {
   "cell_type": "code",
   "execution_count": null,
   "metadata": {},
   "outputs": [],
   "source": [
    "# Create a data frame with columns for the name opt solution, nearest neighbor solution, and untouched solution\n",
    "\n",
    "if os.path.exists(\"results.pkl\"):\n",
    "    df = pd.read_pickle(\"results.pkl\")\n",
    "else:\n",
    "    df = pd.DataFrame(columns=['name', 'num_points', 'opt_len', 'nn_len', 'untouched_len', 'nwsp5_len', 'nwsp7_len', 'nwsp9_len'])\n",
    "    df.name = pd.Series(sorted([problem.name for problem in problems]))\n",
    "    df.set_index(\"name\", inplace = True)\n",
    "df"
   ]
  },
  {
   "cell_type": "markdown",
   "metadata": {},
   "source": [
    "## Save Default Values into dataframe"
   ]
  },
  {
   "cell_type": "code",
   "execution_count": null,
   "metadata": {},
   "outputs": [],
   "source": [
    "\n",
    "# fig, ax = plt.subplots(1, 2, figsize=(12,6))\n",
    "ax = None\n",
    "i = 0\n",
    "for problem in problems:\n",
    "    print(i, problem.name)\n",
    "    # ax[0].clear()\n",
    "    # ax[1].clear()\n",
    "\n",
    "    points = [ds.Point(*problem.node_coords[i]) for i in problem.get_nodes()]\n",
    "\n",
    "    ts_problem = tsp.TravellingSalesmanProblem[TREE_TYPE](TREE_TYPE, points, ax, s=1.0)\n",
    "    \n",
    "    # MARK: load the dp solution\n",
    "    num_path = None\n",
    "    if os.path.exists(f\"ALL_tsp/{problem.name}.opt.tour\"): # If there is an optimal tour file\n",
    "        num_path = tsplib95.load(f\"ALL_tsp/{problem.name}.opt.tour\").tours[0]\n",
    "    elif len(problem.tours) > 0:\n",
    "        num_path = problem.tours[0] # NOTE: I do not know of any euclidean which has this property\n",
    "        raise ValueError(\"A shooting star\")\n",
    "    if num_path is not None:\n",
    "        path = [ts_problem.points[i-1] for i in num_path]\n",
    "        ts_problem.dp_path = (path + [path[0]], util.calc_dist(path), None)\n",
    "        # ts_problem.draw_path(ts_problem.dp_path[0], '#FFC0CB')\n",
    "    elif len(ts_problem.points) <= BF_THRESHOLD:\n",
    "        print(\"Brute forcing\", problem.name)\n",
    "        ts_problem.dp_path # Load the property\n",
    "\n",
    "    # MARK: Populate row values\n",
    "    df.loc[problem.name, \"num_points\"] = len(ts_problem.points)\n",
    "    \n",
    "    if \"dp_path\" in ts_problem.__dict__:\n",
    "        assert ts_problem.check_tour(ts_problem.dp_path[0]), \"Invalid path\"\n",
    "        df.loc[problem.name, \"opt_len\"] = ts_problem.dp_path[1]\n",
    "    if pd.isna(df.loc[problem.name, \"nn_len\"]):\n",
    "        assert ts_problem.check_tour(ts_problem.nnn_path[0]), \"Invalid path\"\n",
    "        df.loc[problem.name, \"nn_len\"] = ts_problem.nnn_path[1]\n",
    "    if pd.isna(df.loc[problem.name, \"untouched_len\"]):\n",
    "        assert ts_problem.check_tour(ts_problem.untouched_path[0]), \"Invalid path\"\n",
    "        df.loc[problem.name, \"untouched_len\"] = ts_problem.untouched_path[1]\n",
    "    # if pd.isna(df.loc[problem.name, \"nwsp5_len\"]):\n",
    "    #     assert ts_problem.check_tour(ts_problem.nwsp_path(5)[0]), \"Invalid path\"\n",
    "    #     df.loc[problem.name, \"nwsp5_len\"] = ts_problem.nwsp_path(5)[1]\n",
    "    # if pd.isna(df.loc[problem.name, \"nwsp7_len\"]):\n",
    "    #     assert ts_problem.check_tour(ts_problem.nwsp_path(7)[0]), \"Invalid path\"\n",
    "    #     df.loc[problem.name, \"nwsp7_len\"] = ts_problem.nwsp_path(7)[1]\n",
    "    # if df.loc[problem.name, \"nwsp9_len\"]:\n",
    "    #     df.loc[problem.name, \"nwsp9_len\"] = ts_problem.nwsp_path(9)[1]\n",
    "    \n",
    "    i += 1\n",
    "print(\"done\") # TODO: use progress instead of prints"
   ]
  },
  {
   "cell_type": "code",
   "execution_count": null,
   "metadata": {},
   "outputs": [],
   "source": [
    "df #[df['opt_len'] > 0]"
   ]
  },
  {
   "cell_type": "code",
   "execution_count": null,
   "metadata": {},
   "outputs": [],
   "source": [
    "df.to_pickle('results.pkl')"
   ]
  },
  {
   "cell_type": "code",
   "execution_count": null,
   "metadata": {},
   "outputs": [],
   "source": []
  }
 ],
 "metadata": {
  "kernelspec": {
   "display_name": "Python 3",
   "language": "python",
   "name": "python3"
  },
  "language_info": {
   "codemirror_mode": {
    "name": "ipython",
    "version": 3
   },
   "file_extension": ".py",
   "mimetype": "text/x-python",
   "name": "python",
   "nbconvert_exporter": "python",
   "pygments_lexer": "ipython3",
   "version": "3.11.4"
  },
  "orig_nbformat": 4
 },
 "nbformat": 4,
 "nbformat_minor": 2
}
