{
 "cells": [
  {
   "cell_type": "code",
   "execution_count": 2,
   "metadata": {},
   "outputs": [
    {
     "data": {
      "text/plain": [
       "[[['b'], ['c']],\n",
       " [['b', 'c'], ['a']],\n",
       " [['b', 'c', 'a'], ['d']],\n",
       " [['f'], ['e']],\n",
       " [['b', 'c'], ['f']],\n",
       " [['a'], ['f']],\n",
       " [['b', 'c', 'a'], ['e']],\n",
       " [['d'], ['f']],\n",
       " [['d'], ['e']]]"
      ]
     },
     "execution_count": 2,
     "metadata": {},
     "output_type": "execute_result"
    }
   ],
   "source": [
    "import wspd\n",
    "\n",
    "from wsp import file_load\n",
    "\n",
    "a = ['a', 'b', 'c', 'd', 'e', 'f']\n",
    "\n",
    "points = file_load.load_points(\"data/custom0.tsp\", False)\n",
    "wsp_points = [wspd.point(p.to_list()) for p in points]\n",
    "\n",
    "wsps = wspd.build_wspd(0, 2, 1.0, wsp_points)\n",
    "wsps = [[[a[i] for i in l] for l in w] for w in wsps]\n",
    "wsps"
   ]
  },
  {
   "cell_type": "code",
   "execution_count": 4,
   "metadata": {},
   "outputs": [
    {
     "data": {
      "text/plain": [
       "[0.0, 17.0]"
      ]
     },
     "execution_count": 4,
     "metadata": {},
     "output_type": "execute_result"
    }
   ],
   "source": []
  }
 ],
 "metadata": {
  "kernelspec": {
   "display_name": "Python 3",
   "language": "python",
   "name": "python3"
  },
  "language_info": {
   "codemirror_mode": {
    "name": "ipython",
    "version": 3
   },
   "file_extension": ".py",
   "mimetype": "text/x-python",
   "name": "python",
   "nbconvert_exporter": "python",
   "pygments_lexer": "ipython3",
   "version": "3.11.5"
  },
  "orig_nbformat": 4
 },
 "nbformat": 4,
 "nbformat_minor": 2
}
