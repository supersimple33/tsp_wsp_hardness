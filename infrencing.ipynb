{
 "cells": [
  {
   "cell_type": "code",
   "execution_count": 1,
   "metadata": {},
   "outputs": [],
   "source": [
    "import random\n",
    "\n",
    "import matplotlib.animation as animation\n",
    "from matplotlib.widgets import Slider, Button\n",
    "import matplotlib as mpl\n",
    "from matplotlib import pyplot as plt\n",
    "import scipy.interpolate as inter\n",
    "import numpy as np\n",
    "import pandas as pd\n",
    "\n",
    "from wsp import util\n",
    "from wsp import ds\n",
    "from wsp import tsp\n",
    "\n",
    "QTREE = ds.PKPRQuadTree"
   ]
  },
  {
   "cell_type": "code",
   "execution_count": 2,
   "metadata": {},
   "outputs": [],
   "source": [
    "data = [] # num of jumps, left points, right points\n",
    "# MARK: SETUP\n",
    "N_LEFT  = 6 # How many points in the left cluster\n",
    "N_RIGHT = 1 # How many points in the right cluster\n",
    "RADIUS_LEFT = 1.0\n",
    "RADIUS_RIGHT = 1.0\n",
    "OFFSET_RIGHT = 10.0\n",
    "\n",
    "def calculate_jumps(old_path : list[ds.Point], new_path : list[ds.Point]) -> int:\n",
    "    jumps = 0\n",
    "\n",
    "    old_edges = {\n",
    "        frozenset([old_path[i], old_path[i + 1]])\n",
    "        for i in range(len(old_path) - 1)\n",
    "    }\n",
    "    new_edges = {\n",
    "        frozenset([new_path[i], new_path[i + 1]])\n",
    "        for i in range(len(new_path) - 1)\n",
    "    }\n",
    "    # print(old_edges - new_edges)\n",
    "\n",
    "    return len(old_edges - new_edges)"
   ]
  },
  {
   "cell_type": "code",
   "execution_count": 3,
   "metadata": {},
   "outputs": [],
   "source": [
    "def run_simulation() -> list:\n",
    "    left_points : list[ds.Point] = util.generate_points(N_LEFT, lambda: (random.uniform(-RADIUS_LEFT, RADIUS_LEFT), random.uniform(-RADIUS_LEFT, RADIUS_LEFT))) # Generate points\n",
    "    right_points : list[ds.Point] = util.generate_points(N_RIGHT, lambda: (random.uniform(-RADIUS_RIGHT, RADIUS_RIGHT) + OFFSET_RIGHT, random.uniform(-RADIUS_RIGHT, RADIUS_RIGHT)))\n",
    "    # left_points = [ds.Point(0,1), ds.Point(0,-1), ds.Point(1,1), ds.Point(1,-1), ds.Point(0.25,0.25), ds.Point(1,0)]\n",
    "    # right_points = [ds.Point(10,0)+ ds.Point(10,0.5)]\n",
    "\n",
    "    ts_problem = tsp.TravellingSalesmanProblem[QTREE](QTREE, right_points + left_points, np.array([None, None]), s=2.0)\n",
    "    left_problem = tsp.TravellingSalesmanProblem[QTREE](QTREE, left_points, np.array([None, None]), s=2.0)\n",
    "\n",
    "    first_right_index = next(i for i in range(500) if ts_problem.dp_path[0][i] in right_points)\n",
    "    \n",
    "\n",
    "    new_solve_small = ts_problem.dp_path[0][first_right_index + N_RIGHT:]\n",
    "    new_solve_small.extend(# REVIEW: we may not actually need this could save some time\n",
    "        x\n",
    "        for x in ts_problem.dp_path[0][:first_right_index]\n",
    "        if x not in new_solve_small\n",
    "    )\n",
    "    new_solve_small = new_solve_small[:-1] if first_right_index == 0 else new_solve_small\n",
    "\n",
    "    # ensure that the left points are all in a row\n",
    "    # assert set(new_solve_small) == set(ts_problem.dp_path[0]) - set(ts_problem.dp_path[0][first_right_index:first_right_index + N_RIGHT - 1])\n",
    "    assert len(new_solve_small) == len(left_problem.dp_path[0]) - 1\n",
    "    jumps = calculate_jumps(left_problem.dp_path[0], new_solve_small)\n",
    "\n",
    "    return jumps, left_points, right_points\n",
    "\n",
    "# run_simulation()"
   ]
  },
  {
   "cell_type": "code",
   "execution_count": 7,
   "metadata": {},
   "outputs": [
    {
     "data": {
      "text/plain": [
       "110000"
      ]
     },
     "execution_count": 7,
     "metadata": {},
     "output_type": "execute_result"
    }
   ],
   "source": [
    "for _ in range(100000):\n",
    "    data.append(run_simulation())\n",
    "len(data)"
   ]
  },
  {
   "cell_type": "code",
   "execution_count": 8,
   "metadata": {},
   "outputs": [
    {
     "data": {
      "text/html": [
       "<div>\n",
       "<style scoped>\n",
       "    .dataframe tbody tr th:only-of-type {\n",
       "        vertical-align: middle;\n",
       "    }\n",
       "\n",
       "    .dataframe tbody tr th {\n",
       "        vertical-align: top;\n",
       "    }\n",
       "\n",
       "    .dataframe thead th {\n",
       "        text-align: right;\n",
       "    }\n",
       "</style>\n",
       "<table border=\"1\" class=\"dataframe\">\n",
       "  <thead>\n",
       "    <tr style=\"text-align: right;\">\n",
       "      <th></th>\n",
       "      <th>jumps</th>\n",
       "      <th>left</th>\n",
       "      <th>right</th>\n",
       "    </tr>\n",
       "  </thead>\n",
       "  <tbody>\n",
       "    <tr>\n",
       "      <th>0</th>\n",
       "      <td>1</td>\n",
       "      <td>[P(0.9414, -0.1176), P(0.4793, 0.5514), P(0.50...</td>\n",
       "      <td>[P(9.4173, -0.9614)]</td>\n",
       "    </tr>\n",
       "    <tr>\n",
       "      <th>1</th>\n",
       "      <td>1</td>\n",
       "      <td>[P(-0.7610, 0.3504), P(-0.7581, 0.5820), P(-0....</td>\n",
       "      <td>[P(10.5055, -0.7254)]</td>\n",
       "    </tr>\n",
       "    <tr>\n",
       "      <th>2</th>\n",
       "      <td>1</td>\n",
       "      <td>[P(0.2568, -0.6233), P(-0.2902, -0.2964), P(0....</td>\n",
       "      <td>[P(10.8184, -0.0149)]</td>\n",
       "    </tr>\n",
       "    <tr>\n",
       "      <th>3</th>\n",
       "      <td>2</td>\n",
       "      <td>[P(-0.8721, 0.1627), P(0.7083, -0.4790), P(-0....</td>\n",
       "      <td>[P(10.7252, 0.1938)]</td>\n",
       "    </tr>\n",
       "    <tr>\n",
       "      <th>4</th>\n",
       "      <td>1</td>\n",
       "      <td>[P(-0.0257, 0.5587), P(-0.5345, 0.7979), P(0.4...</td>\n",
       "      <td>[P(10.0636, -0.7690)]</td>\n",
       "    </tr>\n",
       "    <tr>\n",
       "      <th>...</th>\n",
       "      <td>...</td>\n",
       "      <td>...</td>\n",
       "      <td>...</td>\n",
       "    </tr>\n",
       "    <tr>\n",
       "      <th>109995</th>\n",
       "      <td>1</td>\n",
       "      <td>[P(0.0552, -0.0362), P(0.5320, 0.4421), P(0.76...</td>\n",
       "      <td>[P(10.9023, -0.6240)]</td>\n",
       "    </tr>\n",
       "    <tr>\n",
       "      <th>109996</th>\n",
       "      <td>1</td>\n",
       "      <td>[P(0.6686, -0.0027), P(-0.2754, 0.3664), P(0.2...</td>\n",
       "      <td>[P(10.7395, -0.0824)]</td>\n",
       "    </tr>\n",
       "    <tr>\n",
       "      <th>109997</th>\n",
       "      <td>1</td>\n",
       "      <td>[P(0.5684, 0.3576), P(-0.3191, 0.5133), P(0.37...</td>\n",
       "      <td>[P(10.6893, -0.3115)]</td>\n",
       "    </tr>\n",
       "    <tr>\n",
       "      <th>109998</th>\n",
       "      <td>1</td>\n",
       "      <td>[P(0.3269, 0.1085), P(-0.5816, -0.4247), P(-0....</td>\n",
       "      <td>[P(9.8634, 0.3535)]</td>\n",
       "    </tr>\n",
       "    <tr>\n",
       "      <th>109999</th>\n",
       "      <td>1</td>\n",
       "      <td>[P(-0.5594, -0.4189), P(-0.1506, 0.9894), P(-0...</td>\n",
       "      <td>[P(9.2233, -0.7446)]</td>\n",
       "    </tr>\n",
       "  </tbody>\n",
       "</table>\n",
       "<p>110000 rows × 3 columns</p>\n",
       "</div>"
      ],
      "text/plain": [
       "        jumps                                               left  \\\n",
       "0           1  [P(0.9414, -0.1176), P(0.4793, 0.5514), P(0.50...   \n",
       "1           1  [P(-0.7610, 0.3504), P(-0.7581, 0.5820), P(-0....   \n",
       "2           1  [P(0.2568, -0.6233), P(-0.2902, -0.2964), P(0....   \n",
       "3           2  [P(-0.8721, 0.1627), P(0.7083, -0.4790), P(-0....   \n",
       "4           1  [P(-0.0257, 0.5587), P(-0.5345, 0.7979), P(0.4...   \n",
       "...       ...                                                ...   \n",
       "109995      1  [P(0.0552, -0.0362), P(0.5320, 0.4421), P(0.76...   \n",
       "109996      1  [P(0.6686, -0.0027), P(-0.2754, 0.3664), P(0.2...   \n",
       "109997      1  [P(0.5684, 0.3576), P(-0.3191, 0.5133), P(0.37...   \n",
       "109998      1  [P(0.3269, 0.1085), P(-0.5816, -0.4247), P(-0....   \n",
       "109999      1  [P(-0.5594, -0.4189), P(-0.1506, 0.9894), P(-0...   \n",
       "\n",
       "                        right  \n",
       "0        [P(9.4173, -0.9614)]  \n",
       "1       [P(10.5055, -0.7254)]  \n",
       "2       [P(10.8184, -0.0149)]  \n",
       "3        [P(10.7252, 0.1938)]  \n",
       "4       [P(10.0636, -0.7690)]  \n",
       "...                       ...  \n",
       "109995  [P(10.9023, -0.6240)]  \n",
       "109996  [P(10.7395, -0.0824)]  \n",
       "109997  [P(10.6893, -0.3115)]  \n",
       "109998    [P(9.8634, 0.3535)]  \n",
       "109999   [P(9.2233, -0.7446)]  \n",
       "\n",
       "[110000 rows x 3 columns]"
      ]
     },
     "execution_count": 8,
     "metadata": {},
     "output_type": "execute_result"
    }
   ],
   "source": [
    "df = pd.DataFrame(data, columns=[\"jumps\", \"left\", \"right\"])\n",
    "df"
   ]
  },
  {
   "cell_type": "code",
   "execution_count": 9,
   "metadata": {},
   "outputs": [
    {
     "data": {
      "text/plain": [
       "jumps\n",
       "1    77667\n",
       "2    22571\n",
       "3     8619\n",
       "4     1143\n",
       "Name: count, dtype: int64"
      ]
     },
     "execution_count": 9,
     "metadata": {},
     "output_type": "execute_result"
    }
   ],
   "source": [
    "df[\"jumps\"].value_counts()"
   ]
  }
 ],
 "metadata": {
  "kernelspec": {
   "display_name": "Python 3",
   "language": "python",
   "name": "python3"
  },
  "language_info": {
   "codemirror_mode": {
    "name": "ipython",
    "version": 3
   },
   "file_extension": ".py",
   "mimetype": "text/x-python",
   "name": "python",
   "nbconvert_exporter": "python",
   "pygments_lexer": "ipython3",
   "version": "3.11.4"
  },
  "orig_nbformat": 4
 },
 "nbformat": 4,
 "nbformat_minor": 2
}
