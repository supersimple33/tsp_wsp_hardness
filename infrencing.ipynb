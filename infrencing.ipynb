{
 "cells": [
  {
   "cell_type": "code",
   "execution_count": 1,
   "metadata": {},
   "outputs": [],
   "source": [
    "import random\n",
    "\n",
    "import matplotlib.animation as animation\n",
    "from matplotlib.widgets import Slider, Button\n",
    "import matplotlib as mpl\n",
    "from matplotlib import pyplot as plt\n",
    "import scipy.interpolate as inter\n",
    "import numpy as np\n",
    "import pandas as pd\n",
    "\n",
    "from wsp import util\n",
    "from wsp import ds\n",
    "from wsp import tsp\n",
    "\n",
    "QTREE = ds.PKPRQuadTree"
   ]
  },
  {
   "cell_type": "code",
   "execution_count": 2,
   "metadata": {},
   "outputs": [],
   "source": [
    "data = [] # num of jumps, left points, right points\n",
    "# MARK: SETUP\n",
    "N_LEFT  = 9 # How many points in the left cluster\n",
    "N_RIGHT = 1 # How many points in the right cluster\n",
    "RADIUS_LEFT = 1.0\n",
    "RADIUS_RIGHT = 1.0\n",
    "OFFSET_RIGHT = 10.0\n",
    "\n",
    "def calculate_jumps(old_path : list[ds.Point], new_path : list[ds.Point]) -> int:\n",
    "    jumps = 0\n",
    "\n",
    "    old_edges = {\n",
    "        frozenset([old_path[i], old_path[i + 1]])\n",
    "        for i in range(len(old_path) - 1)\n",
    "    }\n",
    "    new_edges = {\n",
    "        frozenset([new_path[i], new_path[i + 1]])\n",
    "        for i in range(len(new_path) - 1)\n",
    "    }\n",
    "    # print(old_edges - new_edges)\n",
    "\n",
    "    return len(old_edges - new_edges)"
   ]
  },
  {
   "cell_type": "code",
   "execution_count": 3,
   "metadata": {},
   "outputs": [],
   "source": [
    "def run_simulation() -> list:\n",
    "    left_points : list[ds.Point] = util.generate_points(N_LEFT, lambda: (random.uniform(-RADIUS_LEFT, RADIUS_LEFT), random.uniform(-RADIUS_LEFT, RADIUS_LEFT))) # Generate points\n",
    "    right_points : list[ds.Point] = util.generate_points(N_RIGHT, lambda: (random.uniform(-RADIUS_RIGHT, RADIUS_RIGHT) + OFFSET_RIGHT, random.uniform(-RADIUS_RIGHT, RADIUS_RIGHT)))\n",
    "    # left_points = [ds.Point(0,1), ds.Point(0,-1), ds.Point(1,1), ds.Point(1,-1), ds.Point(0.25,0.25), ds.Point(1,0)]\n",
    "    # right_points = [ds.Point(10,0)+ ds.Point(10,0.5)]\n",
    "\n",
    "    ts_problem = tsp.TravellingSalesmanProblem[QTREE](QTREE, right_points + left_points, np.array([None, None]), s=2.0)\n",
    "    left_problem = tsp.TravellingSalesmanProblem[QTREE](QTREE, left_points, np.array([None, None]), s=2.0)\n",
    "\n",
    "    first_right_index = next(i for i in range(500) if ts_problem.dp_path[0][i] in right_points)\n",
    "    \n",
    "\n",
    "    new_solve_small = ts_problem.dp_path[0][first_right_index + N_RIGHT:]\n",
    "    new_solve_small.extend(# REVIEW: we may not actually need this could save some time\n",
    "        x\n",
    "        for x in ts_problem.dp_path[0][:first_right_index]\n",
    "        if x not in new_solve_small\n",
    "    )\n",
    "    new_solve_small = new_solve_small[:-1] if first_right_index == 0 else new_solve_small\n",
    "\n",
    "    # ensure that the left points are all in a row\n",
    "    # assert set(new_solve_small) == set(ts_problem.dp_path[0]) - set(ts_problem.dp_path[0][first_right_index:first_right_index + N_RIGHT - 1])\n",
    "    assert len(new_solve_small) == len(left_problem.dp_path[0]) - 1\n",
    "    jumps = calculate_jumps(left_problem.dp_path[0], new_solve_small)\n",
    "\n",
    "    return jumps, left_points, right_points\n",
    "\n",
    "# run_simulation()"
   ]
  },
  {
   "cell_type": "code",
   "execution_count": 5,
   "metadata": {},
   "outputs": [
    {
     "data": {
      "text/plain": [
       "1070"
      ]
     },
     "execution_count": 5,
     "metadata": {},
     "output_type": "execute_result"
    }
   ],
   "source": [
    "for _ in range(100):\n",
    "    data.append(run_simulation())\n",
    "len(data)"
   ]
  },
  {
   "cell_type": "code",
   "execution_count": 6,
   "metadata": {},
   "outputs": [
    {
     "data": {
      "text/html": [
       "<div>\n",
       "<style scoped>\n",
       "    .dataframe tbody tr th:only-of-type {\n",
       "        vertical-align: middle;\n",
       "    }\n",
       "\n",
       "    .dataframe tbody tr th {\n",
       "        vertical-align: top;\n",
       "    }\n",
       "\n",
       "    .dataframe thead th {\n",
       "        text-align: right;\n",
       "    }\n",
       "</style>\n",
       "<table border=\"1\" class=\"dataframe\">\n",
       "  <thead>\n",
       "    <tr style=\"text-align: right;\">\n",
       "      <th></th>\n",
       "      <th>jumps</th>\n",
       "      <th>left</th>\n",
       "      <th>right</th>\n",
       "    </tr>\n",
       "  </thead>\n",
       "  <tbody>\n",
       "    <tr>\n",
       "      <th>0</th>\n",
       "      <td>1</td>\n",
       "      <td>[P(0.4938, -0.2621), P(0.9095, 0.6923), P(-0.7...</td>\n",
       "      <td>[P(10.2014, -0.0578)]</td>\n",
       "    </tr>\n",
       "    <tr>\n",
       "      <th>1</th>\n",
       "      <td>1</td>\n",
       "      <td>[P(-0.2790, 0.6679), P(0.3335, 0.0579), P(-0.2...</td>\n",
       "      <td>[P(10.8157, 0.1497)]</td>\n",
       "    </tr>\n",
       "    <tr>\n",
       "      <th>2</th>\n",
       "      <td>1</td>\n",
       "      <td>[P(0.8106, 0.5171), P(-0.1068, 0.6870), P(0.17...</td>\n",
       "      <td>[P(10.9450, -0.2778)]</td>\n",
       "    </tr>\n",
       "    <tr>\n",
       "      <th>3</th>\n",
       "      <td>1</td>\n",
       "      <td>[P(0.7309, -0.6175), P(-0.5671, 0.5256), P(-0....</td>\n",
       "      <td>[P(9.7636, 0.7032)]</td>\n",
       "    </tr>\n",
       "    <tr>\n",
       "      <th>4</th>\n",
       "      <td>2</td>\n",
       "      <td>[P(0.1085, -0.1883), P(-0.3431, -0.8688), P(-0...</td>\n",
       "      <td>[P(10.5275, 0.0144)]</td>\n",
       "    </tr>\n",
       "    <tr>\n",
       "      <th>...</th>\n",
       "      <td>...</td>\n",
       "      <td>...</td>\n",
       "      <td>...</td>\n",
       "    </tr>\n",
       "    <tr>\n",
       "      <th>1065</th>\n",
       "      <td>1</td>\n",
       "      <td>[P(0.1728, -0.3373), P(-0.5097, 0.5195), P(-0....</td>\n",
       "      <td>[P(9.2474, 0.6454)]</td>\n",
       "    </tr>\n",
       "    <tr>\n",
       "      <th>1066</th>\n",
       "      <td>3</td>\n",
       "      <td>[P(0.5468, -0.4888), P(0.6910, -0.9430), P(-0....</td>\n",
       "      <td>[P(9.3696, 0.8399)]</td>\n",
       "    </tr>\n",
       "    <tr>\n",
       "      <th>1067</th>\n",
       "      <td>3</td>\n",
       "      <td>[P(-0.0055, 0.5235), P(0.8618, -0.4858), P(0.7...</td>\n",
       "      <td>[P(9.4457, -0.9193)]</td>\n",
       "    </tr>\n",
       "    <tr>\n",
       "      <th>1068</th>\n",
       "      <td>5</td>\n",
       "      <td>[P(0.5112, -0.3121), P(-0.1051, -0.0071), P(0....</td>\n",
       "      <td>[P(10.9702, -0.9170)]</td>\n",
       "    </tr>\n",
       "    <tr>\n",
       "      <th>1069</th>\n",
       "      <td>3</td>\n",
       "      <td>[P(-0.0166, -0.0959), P(-0.8803, 0.1023), P(-0...</td>\n",
       "      <td>[P(10.5226, 0.0737)]</td>\n",
       "    </tr>\n",
       "  </tbody>\n",
       "</table>\n",
       "<p>1070 rows × 3 columns</p>\n",
       "</div>"
      ],
      "text/plain": [
       "      jumps                                               left  \\\n",
       "0         1  [P(0.4938, -0.2621), P(0.9095, 0.6923), P(-0.7...   \n",
       "1         1  [P(-0.2790, 0.6679), P(0.3335, 0.0579), P(-0.2...   \n",
       "2         1  [P(0.8106, 0.5171), P(-0.1068, 0.6870), P(0.17...   \n",
       "3         1  [P(0.7309, -0.6175), P(-0.5671, 0.5256), P(-0....   \n",
       "4         2  [P(0.1085, -0.1883), P(-0.3431, -0.8688), P(-0...   \n",
       "...     ...                                                ...   \n",
       "1065      1  [P(0.1728, -0.3373), P(-0.5097, 0.5195), P(-0....   \n",
       "1066      3  [P(0.5468, -0.4888), P(0.6910, -0.9430), P(-0....   \n",
       "1067      3  [P(-0.0055, 0.5235), P(0.8618, -0.4858), P(0.7...   \n",
       "1068      5  [P(0.5112, -0.3121), P(-0.1051, -0.0071), P(0....   \n",
       "1069      3  [P(-0.0166, -0.0959), P(-0.8803, 0.1023), P(-0...   \n",
       "\n",
       "                      right  \n",
       "0     [P(10.2014, -0.0578)]  \n",
       "1      [P(10.8157, 0.1497)]  \n",
       "2     [P(10.9450, -0.2778)]  \n",
       "3       [P(9.7636, 0.7032)]  \n",
       "4      [P(10.5275, 0.0144)]  \n",
       "...                     ...  \n",
       "1065    [P(9.2474, 0.6454)]  \n",
       "1066    [P(9.3696, 0.8399)]  \n",
       "1067   [P(9.4457, -0.9193)]  \n",
       "1068  [P(10.9702, -0.9170)]  \n",
       "1069   [P(10.5226, 0.0737)]  \n",
       "\n",
       "[1070 rows x 3 columns]"
      ]
     },
     "execution_count": 6,
     "metadata": {},
     "output_type": "execute_result"
    }
   ],
   "source": [
    "df = pd.DataFrame(data, columns=[\"jumps\", \"left\", \"right\"])\n",
    "df"
   ]
  },
  {
   "cell_type": "code",
   "execution_count": 7,
   "metadata": {},
   "outputs": [
    {
     "data": {
      "text/plain": [
       "jumps\n",
       "1    627\n",
       "2    242\n",
       "3    147\n",
       "4     39\n",
       "5     13\n",
       "6      2\n",
       "Name: count, dtype: int64"
      ]
     },
     "execution_count": 7,
     "metadata": {},
     "output_type": "execute_result"
    }
   ],
   "source": [
    "df[\"jumps\"].value_counts()"
   ]
  }
 ],
 "metadata": {
  "kernelspec": {
   "display_name": "Python 3",
   "language": "python",
   "name": "python3"
  },
  "language_info": {
   "codemirror_mode": {
    "name": "ipython",
    "version": 3
   },
   "file_extension": ".py",
   "mimetype": "text/x-python",
   "name": "python",
   "nbconvert_exporter": "python",
   "pygments_lexer": "ipython3",
   "version": "3.12.10"
  },
  "orig_nbformat": 4
 },
 "nbformat": 4,
 "nbformat_minor": 2
}
